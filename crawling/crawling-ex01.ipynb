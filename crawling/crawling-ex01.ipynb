{
 "cells": [
  {
   "cell_type": "code",
   "execution_count": 1,
   "id": "f6cc68dc",
   "metadata": {},
   "outputs": [
    {
     "name": "stdout",
     "output_type": "stream",
     "text": [
      "['707-514-0033', '070 3460 5076', '905-389-4463', '(02) 6175 8642', '07183 30 07 96', '21-90-47700', '33 36175334', '845-857-0825', '507-876-0713', '773-757-1932', '301-787-8206', '310-718-6212', '781-646-1715', '315-576-8242', '650-577-7537', '229-460-4970', '305-540-4990', '606-614-9190', '814-965-6502', '8134-191-6900', '914-933-3946', '801-927-7191', '736 301 706', '916-863-6154', '252-218-2526', '803-535-5627', '580-730-2253', '240-597-0099', '210-727-9560', '919-887-6912', '614-449-8617', '830-229-4983', '303-284-0638', '734-981-4470', '701-496-3125', '605-677-5038', '209-848-9572', '760-464-6831', '508-272-0114', '845-915-5076', '973-640-3581', '541-579-1559', '336-212-0408', '845-340-3808', '561-526-2625', '801-608-1332', '510-214-0266', '785-253-0084', '585-749-2163', '312-362-2484', '570-603-5788', '802-738-8477', '507-771-8684', '720-634-0176', '313-930-0331', '8188-165-7118', '02-455-1973']\n"
     ]
    }
   ],
   "source": [
    "import requests\n",
    "from bs4 import BeautifulSoup\n",
    "\n",
    "# HTML 코드 받아오기\n",
    "response = requests.get(\"https://workey.codeit.kr/orangebottle/index\")\n",
    "\n",
    "# BeautifulSoup 타입으로 변환\n",
    "soup = BeautifulSoup(response.text, 'html.parser')\n",
    "\n",
    "# \"phoneNum\" 클래스를 가진 태그 선택하기\n",
    "phoneNum_tags = soup.select('.phoneNum')\n",
    "\n",
    "# 빈 리스트 생성\n",
    "phone_numbers = []\n",
    "\n",
    "# 텍스트 추출해서 리스트에 담기\n",
    "for tag in phoneNum_tags:\n",
    "    phone_numbers.append(tag.text)\n",
    "\n",
    "# 결과 출력\n",
    "print(phone_numbers)"
   ]
  },
  {
   "cell_type": "code",
   "execution_count": null,
   "id": "a52ac0ac",
   "metadata": {},
   "outputs": [],
   "source": []
  }
 ],
 "metadata": {
  "kernelspec": {
   "display_name": "Python 3",
   "language": "python",
   "name": "python3"
  },
  "language_info": {
   "codemirror_mode": {
    "name": "ipython",
    "version": 3
   },
   "file_extension": ".py",
   "mimetype": "text/x-python",
   "name": "python",
   "nbconvert_exporter": "python",
   "pygments_lexer": "ipython3",
   "version": "3.8.8"
  }
 },
 "nbformat": 4,
 "nbformat_minor": 5
}
