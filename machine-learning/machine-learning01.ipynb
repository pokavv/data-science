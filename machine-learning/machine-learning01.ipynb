{
 "cells": [
  {
   "cell_type": "markdown",
   "id": "38eaa702",
   "metadata": {},
   "source": [
    "## Machine Learning (기계학습)\n",
    "- 경험을 통해 스스로 성능을 개선해나감"
   ]
  }
 ],
 "metadata": {
  "kernelspec": {
   "display_name": "Python 3",
   "language": "python",
   "name": "python3"
  },
  "language_info": {
   "codemirror_mode": {
    "name": "ipython",
    "version": 3
   },
   "file_extension": ".py",
   "mimetype": "text/x-python",
   "name": "python",
   "nbconvert_exporter": "python",
   "pygments_lexer": "ipython3",
   "version": "3.8.8"
  }
 },
 "nbformat": 4,
 "nbformat_minor": 5
}
