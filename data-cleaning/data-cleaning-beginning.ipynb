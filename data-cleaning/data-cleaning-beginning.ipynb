{
 "cells": [
  {
   "cell_type": "markdown",
   "id": "1f4b477e",
   "metadata": {},
   "source": [
    "## Criteria for good data\n",
    "\n",
    "1. 완결성(completeness)\n",
    "- 필수적인 데이터는 모두 기록되어있어야 함\n",
    "- 결측값(있어야 하는데 없는 값)을 확인하여 완결성 판별\n",
    "\n",
    "2. 유일성(uniqueness)\n",
    "- 동일한 데이터가 불필요하게 중복되있으면 안됨\n",
    "\n",
    "3. 통일성(conformity)\n",
    "- 데이터가 동일한 형식으로 저장되어 있어야함\n",
    "- 데이터 타입, 단위, 포맷 등\n",
    "\n",
    "4. 정확성(accuracy)\n",
    "- 데이터가 정확해야 함\n",
    "- 주로 데이터를 모으는 과정에서 발생\n",
    "- 이상점(이상치, outlier): 다른 데이터들과 심하게 동떨어진 데이터 값\n"
   ]
  }
 ],
 "metadata": {
  "kernelspec": {
   "display_name": "Python 3",
   "language": "python",
   "name": "python3"
  },
  "language_info": {
   "codemirror_mode": {
    "name": "ipython",
    "version": 3
   },
   "file_extension": ".py",
   "mimetype": "text/x-python",
   "name": "python",
   "nbconvert_exporter": "python",
   "pygments_lexer": "ipython3",
   "version": "3.8.8"
  }
 },
 "nbformat": 4,
 "nbformat_minor": 5
}
