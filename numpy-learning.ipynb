{
 "cells": [
  {
   "cell_type": "markdown",
   "id": "b1456104",
   "metadata": {},
   "source": [
    "# numpy\n",
    "\n",
    "* 수학 연산을 위한 Python Package\n",
    "* numpy array 자료형을 제공\n",
    "* 수치해석, 통계 관련 기능에서 가장 기본이 되는 Module"
   ]
  },
  {
   "cell_type": "code",
   "execution_count": 1,
   "id": "71548a8e",
   "metadata": {},
   "outputs": [],
   "source": [
    "import numpy"
   ]
  },
  {
   "cell_type": "code",
   "execution_count": 2,
   "id": "40ff2ebc",
   "metadata": {},
   "outputs": [
    {
     "data": {
      "text/plain": [
       "array([ 2,  3,  5,  7, 11, 13, 17])"
      ]
     },
     "execution_count": 2,
     "metadata": {},
     "output_type": "execute_result"
    }
   ],
   "source": [
    "arr1 = numpy.array([2, 3, 5, 7, 11, 13, 17])\n",
    "arr1"
   ]
  },
  {
   "cell_type": "code",
   "execution_count": 3,
   "id": "9a71aaf2",
   "metadata": {},
   "outputs": [
    {
     "data": {
      "text/plain": [
       "(7,)"
      ]
     },
     "execution_count": 3,
     "metadata": {},
     "output_type": "execute_result"
    }
   ],
   "source": [
    "type(arr1)\n",
    "arr1.shape # 7열"
   ]
  },
  {
   "cell_type": "code",
   "execution_count": 4,
   "id": "bb5ee721",
   "metadata": {},
   "outputs": [
    {
     "data": {
      "text/plain": [
       "array([[ 1,  2,  3,  4],\n",
       "       [ 5,  6,  7,  8],\n",
       "       [ 9, 10, 11, 12]])"
      ]
     },
     "execution_count": 4,
     "metadata": {},
     "output_type": "execute_result"
    }
   ],
   "source": [
    "arr2 = numpy.array([[1, 2, 3, 4], [5, 6, 7, 8], [9, 10, 11, 12]])\n",
    "arr2"
   ]
  },
  {
   "cell_type": "code",
   "execution_count": 5,
   "id": "1130f04d",
   "metadata": {},
   "outputs": [
    {
     "data": {
      "text/plain": [
       "(3, 4)"
      ]
     },
     "execution_count": 5,
     "metadata": {},
     "output_type": "execute_result"
    }
   ],
   "source": [
    "type(arr2)\n",
    "arr2.shape # 3행4열"
   ]
  },
  {
   "cell_type": "code",
   "execution_count": 6,
   "id": "e13ae7b7",
   "metadata": {
    "scrolled": true
   },
   "outputs": [
    {
     "name": "stdout",
     "output_type": "stream",
     "text": [
      "7\n",
      "12\n"
     ]
    }
   ],
   "source": [
    "print(arr1.size)\n",
    "print(arr2.size)"
   ]
  },
  {
   "cell_type": "code",
   "execution_count": 7,
   "id": "39ec72b2",
   "metadata": {},
   "outputs": [
    {
     "name": "stdout",
     "output_type": "stream",
     "text": [
      "7\n",
      "12\n"
     ]
    }
   ],
   "source": [
    "arr1 = numpy.array([2, 3, 5, 7, 11, 13, 17])\n",
    "arr1\n",
    "\n",
    "type(arr1)\n",
    "arr1.shape # 7열\n",
    "\n",
    "arr2 = numpy.array([[1, 2, 3, 4], [5, 6, 7, 8], [9, 10, 11, 12]])\n",
    "arr2\n",
    "\n",
    "type(arr2)\n",
    "arr2.shape # 3행4열\n",
    "\n",
    "print(arr1.size)\n",
    "print(arr2.size)"
   ]
  },
  {
   "cell_type": "markdown",
   "id": "6ca47052",
   "metadata": {},
   "source": [
    "## module 별명 짓기"
   ]
  },
  {
   "cell_type": "code",
   "execution_count": 8,
   "id": "eaeae675",
   "metadata": {},
   "outputs": [
    {
     "data": {
      "text/plain": [
       "array([  1,   2,   3,   4,   5,   6,   7,   8,   9,  10,  11,  12,  13,\n",
       "        14,  15,  16,  17,  18,  19,  20,  21,  22,  23,  24,  25,  26,\n",
       "        27,  28,  29,  30,  31,  32,  33,  34,  35,  36,  37,  38,  39,\n",
       "        40,  41,  42,  43,  44,  45,  46,  47,  48,  49,  50,  51,  52,\n",
       "        53,  54,  55,  56,  57,  58,  59,  60,  61,  62,  63,  64,  65,\n",
       "        66,  67,  68,  69,  70,  71,  72,  73,  74,  75,  76,  77,  78,\n",
       "        79,  80,  81,  82,  83,  84,  85,  86,  87,  88,  89,  90,  91,\n",
       "        92,  93,  94,  95,  96,  97,  98,  99, 100])"
      ]
     },
     "execution_count": 8,
     "metadata": {},
     "output_type": "execute_result"
    }
   ],
   "source": [
    "# as [별명] : module의 별명을 [별명]으로\n",
    "\n",
    "import numpy as np\n",
    "\n",
    "# 1 ~ 100\n",
    "arr_100 = np.arange(1, 101)\n",
    "arr_100"
   ]
  },
  {
   "cell_type": "code",
   "execution_count": 9,
   "id": "ae14445d",
   "metadata": {
    "scrolled": true
   },
   "outputs": [
    {
     "data": {
      "text/plain": [
       "array([ 3,  6,  9, 12, 15, 18, 21, 24, 27, 30, 33, 36, 39, 42, 45, 48, 51,\n",
       "       54, 57, 60, 63, 66, 69, 72, 75, 78, 81, 84, 87, 90, 93, 96, 99])"
      ]
     },
     "execution_count": 9,
     "metadata": {},
     "output_type": "execute_result"
    }
   ],
   "source": [
    "# 1 ~ 100 3의 배수\n",
    "arr_100_3 = arr_100[arr_100 % 3 == 0]\n",
    "arr_100_3"
   ]
  },
  {
   "cell_type": "markdown",
   "id": "70858f17",
   "metadata": {},
   "source": [
    "## indexing, slicing"
   ]
  },
  {
   "cell_type": "code",
   "execution_count": 10,
   "id": "8ff08a12",
   "metadata": {},
   "outputs": [],
   "source": [
    "arr_ = np.array([2, 3, 4, 5, 6, 7, 8, 9, 10])\n",
    "arr2_ = np.array([2, 1, 3])"
   ]
  },
  {
   "cell_type": "code",
   "execution_count": 11,
   "id": "bf603912",
   "metadata": {},
   "outputs": [
    {
     "name": "stdout",
     "output_type": "stream",
     "text": [
      "4\n",
      "8\n",
      "[3 6 6]\n",
      "[4 3 5]\n",
      "[4 5 6 7]\n",
      "[2 3 4 5 6 7 8]\n",
      "[ 6  7  8  9 10]\n",
      "[4 6 8]\n"
     ]
    }
   ],
   "source": [
    "print(arr_[2])\n",
    "print(arr_[-3])\n",
    "print(arr_[[1, 4, -5]])\n",
    "print(arr_[arr2_])\n",
    "print(arr_[2:6])\n",
    "print(arr_[:7])\n",
    "print(arr_[4:])\n",
    "print(arr_[2:8:2])"
   ]
  },
  {
   "cell_type": "markdown",
   "id": "ec01fdd7",
   "metadata": {},
   "source": [
    "## numeric 기본 연산"
   ]
  },
  {
   "cell_type": "code",
   "execution_count": 12,
   "id": "8b461272",
   "metadata": {},
   "outputs": [],
   "source": [
    "arr1 = np.arange(10)\n",
    "arr2 = np.arange(10, 20)"
   ]
  },
  {
   "cell_type": "code",
   "execution_count": 13,
   "id": "aef137b2",
   "metadata": {},
   "outputs": [
    {
     "data": {
      "text/plain": [
       "array([0, 1, 2, 3, 4, 5, 6, 7, 8, 9])"
      ]
     },
     "execution_count": 13,
     "metadata": {},
     "output_type": "execute_result"
    }
   ],
   "source": [
    "arr1"
   ]
  },
  {
   "cell_type": "code",
   "execution_count": 14,
   "id": "6a2ac0e7",
   "metadata": {},
   "outputs": [
    {
     "data": {
      "text/plain": [
       "array([10, 11, 12, 13, 14, 15, 16, 17, 18, 19])"
      ]
     },
     "execution_count": 14,
     "metadata": {},
     "output_type": "execute_result"
    }
   ],
   "source": [
    "arr2"
   ]
  },
  {
   "cell_type": "code",
   "execution_count": 15,
   "id": "0411a88b",
   "metadata": {},
   "outputs": [
    {
     "data": {
      "text/plain": [
       "array([ 0,  2,  4,  6,  8, 10, 12, 14, 16, 18])"
      ]
     },
     "execution_count": 15,
     "metadata": {},
     "output_type": "execute_result"
    }
   ],
   "source": [
    "arr1 * 2 # numpy array 내부 모든 값에 * 연산"
   ]
  },
  {
   "cell_type": "code",
   "execution_count": 16,
   "id": "8e986192",
   "metadata": {},
   "outputs": [
    {
     "data": {
      "text/plain": [
       "array([0. , 0.5, 1. , 1.5, 2. , 2.5, 3. , 3.5, 4. , 4.5])"
      ]
     },
     "execution_count": 16,
     "metadata": {},
     "output_type": "execute_result"
    }
   ],
   "source": [
    "arr1 / 2 # numpy array 내부 모든 값에 / 연산"
   ]
  },
  {
   "cell_type": "code",
   "execution_count": 17,
   "id": "351c4e9e",
   "metadata": {},
   "outputs": [
    {
     "data": {
      "text/plain": [
       "array([ 2,  3,  4,  5,  6,  7,  8,  9, 10, 11])"
      ]
     },
     "execution_count": 17,
     "metadata": {},
     "output_type": "execute_result"
    }
   ],
   "source": [
    "arr1 + 2 # numpy array 내부 모든 값에 + 연산"
   ]
  },
  {
   "cell_type": "code",
   "execution_count": 18,
   "id": "8ea326e2",
   "metadata": {},
   "outputs": [
    {
     "data": {
      "text/plain": [
       "array([-2, -1,  0,  1,  2,  3,  4,  5,  6,  7])"
      ]
     },
     "execution_count": 18,
     "metadata": {},
     "output_type": "execute_result"
    }
   ],
   "source": [
    "arr1 - 2 # numpy array 내부 모든 값에 - 연산"
   ]
  },
  {
   "cell_type": "code",
   "execution_count": 19,
   "id": "885bb1e5",
   "metadata": {},
   "outputs": [
    {
     "data": {
      "text/plain": [
       "array([ 0,  1,  4,  9, 16, 25, 36, 49, 64, 81], dtype=int32)"
      ]
     },
     "execution_count": 19,
     "metadata": {},
     "output_type": "execute_result"
    }
   ],
   "source": [
    "arr1 ** 2 # numpy array 내부 모든 값에 ** 연산"
   ]
  },
  {
   "cell_type": "code",
   "execution_count": 20,
   "id": "5980f7fe",
   "metadata": {},
   "outputs": [
    {
     "data": {
      "text/plain": [
       "array([0, 1, 2, 3, 4, 5, 6, 7, 8, 9])"
      ]
     },
     "execution_count": 20,
     "metadata": {},
     "output_type": "execute_result"
    }
   ],
   "source": [
    "arr1 # 저장해주지 않았기에 값이 변하지 않음"
   ]
  },
  {
   "cell_type": "code",
   "execution_count": 21,
   "id": "d661a969",
   "metadata": {},
   "outputs": [
    {
     "data": {
      "text/plain": [
       "array([10, 12, 14, 16, 18, 20, 22, 24, 26, 28])"
      ]
     },
     "execution_count": 21,
     "metadata": {},
     "output_type": "execute_result"
    }
   ],
   "source": [
    "arr1 + arr2 # 배열 내 같은 위치에 있는 값끼리 + 연산 (이외 연산도 가능)"
   ]
  },
  {
   "cell_type": "markdown",
   "id": "d3d7b41d",
   "metadata": {},
   "source": [
    "## boolean 연산"
   ]
  },
  {
   "cell_type": "code",
   "execution_count": 22,
   "id": "475ab7e7",
   "metadata": {},
   "outputs": [
    {
     "data": {
      "text/plain": [
       "array([False, False, False, False, False,  True,  True,  True,  True,\n",
       "        True])"
      ]
     },
     "execution_count": 22,
     "metadata": {},
     "output_type": "execute_result"
    }
   ],
   "source": [
    "arr1 > 4 # arr1 에서 4보다 큰 숫자는 True"
   ]
  },
  {
   "cell_type": "code",
   "execution_count": 23,
   "id": "39a06db3",
   "metadata": {},
   "outputs": [
    {
     "data": {
      "text/plain": [
       "array([ True, False,  True, False,  True, False,  True, False,  True,\n",
       "       False])"
      ]
     },
     "execution_count": 23,
     "metadata": {},
     "output_type": "execute_result"
    }
   ],
   "source": [
    "arr1 % 2 == 0 # arr1 에서 2로 나눈 나머지가 0일때 True (짝수)"
   ]
  },
  {
   "cell_type": "code",
   "execution_count": 24,
   "id": "02eb8c1e",
   "metadata": {},
   "outputs": [],
   "source": [
    "boolean = np.array([True, True, False, True, True, False, True, True, True, False, True])"
   ]
  },
  {
   "cell_type": "code",
   "execution_count": 25,
   "id": "4c792fb1",
   "metadata": {},
   "outputs": [
    {
     "data": {
      "text/plain": [
       "(array([ 0,  1,  3,  4,  6,  7,  8, 10], dtype=int64),)"
      ]
     },
     "execution_count": 25,
     "metadata": {},
     "output_type": "execute_result"
    }
   ],
   "source": [
    "np.where(boolean) # True가 담긴 index 추출"
   ]
  },
  {
   "cell_type": "code",
   "execution_count": 26,
   "id": "ac06e54e",
   "metadata": {},
   "outputs": [
    {
     "data": {
      "text/plain": [
       "(array([5, 6, 7, 8, 9], dtype=int64),)"
      ]
     },
     "execution_count": 26,
     "metadata": {},
     "output_type": "execute_result"
    }
   ],
   "source": [
    "np.where(arr1 > 4) # arr1 에서 4보다 큰 숫자 (True)인 index 추출"
   ]
  },
  {
   "cell_type": "code",
   "execution_count": 27,
   "id": "cb5a9901",
   "metadata": {},
   "outputs": [
    {
     "data": {
      "text/plain": [
       "array([140000, 180000, 170000, 140000, 150000, 110000, 150000, 130000])"
      ]
     },
     "execution_count": 27,
     "metadata": {},
     "output_type": "execute_result"
    }
   ],
   "source": [
    "# 200000 이하인 요소만 추출해서 새로운 numpy array로 추출\n",
    "revenue_in_yen = [\n",
    "    300000, 340000, 320000, 360000, \n",
    "    440000, 140000, 180000, 340000, \n",
    "    330000, 290000, 280000, 380000, \n",
    "    170000, 140000, 230000, 390000, \n",
    "    400000, 350000, 380000, 150000, \n",
    "    110000, 240000, 380000, 380000, \n",
    "    340000, 420000, 150000, 130000, \n",
    "    360000, 320000, 250000\n",
    "]\n",
    "\n",
    "yen_array = np.array(revenue_in_yen)\n",
    "bad_days_revenue = yen_array[yen_array <= 200000]\n",
    "bad_days_revenue # 정답 출력"
   ]
  },
  {
   "cell_type": "code",
   "execution_count": 28,
   "id": "65a74849",
   "metadata": {},
   "outputs": [
    {
     "data": {
      "text/plain": [
       "array([140000, 180000, 170000, 140000, 150000, 110000, 150000, 130000])"
      ]
     },
     "execution_count": 28,
     "metadata": {},
     "output_type": "execute_result"
    }
   ],
   "source": [
    "# 200000 이하인 요소만 추출해서 새로운 numpy array로 추출 2\n",
    "revenue_in_yen = [\n",
    "    300000, 340000, 320000, 360000, \n",
    "    440000, 140000, 180000, 340000, \n",
    "    330000, 290000, 280000, 380000, \n",
    "    170000, 140000, 230000, 390000, \n",
    "    400000, 350000, 380000, 150000, \n",
    "    110000, 240000, 380000, 380000, \n",
    "    340000, 420000, 150000, 130000, \n",
    "    360000, 320000, 250000\n",
    "]\n",
    "\n",
    "yen_array = np.array(revenue_in_yen)\n",
    "filter = np.where(yen_array <= 200000)\n",
    "bad_days_revenue = yen_array[filter]\n",
    "bad_days_revenue # 정답 출력"
   ]
  }
 ],
 "metadata": {
  "kernelspec": {
   "display_name": "Python 3",
   "language": "python",
   "name": "python3"
  },
  "language_info": {
   "codemirror_mode": {
    "name": "ipython",
    "version": 3
   },
   "file_extension": ".py",
   "mimetype": "text/x-python",
   "name": "python",
   "nbconvert_exporter": "python",
   "pygments_lexer": "ipython3",
   "version": "3.8.8"
  }
 },
 "nbformat": 4,
 "nbformat_minor": 5
}
